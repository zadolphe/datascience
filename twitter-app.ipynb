{
 "cells": [
  {
   "cell_type": "markdown",
   "metadata": {},
   "source": [
    "Twitter App"
   ]
  },
  {
   "cell_type": "markdown",
   "metadata": {},
   "source": [
    "Follow these instructions: https://python-twitter.readthedocs.io/en/latest/getting_started.html\n",
    "https://github.com/lighthouse-labs/API_challenge \n",
    "\n",
    "    We will be using python package for Twitter API (one of many) python-twitter. We can install it in our environment using pip install python-twitter. (15 min)\n",
    "    Before we get our application tokens (API keys) we have to create own Twitter App. Follow these intructions.\n",
    "        you can name your application Test Application for API Challenge at LighthouseLabs or something simalar\n",
    "        if you don't know what website to use, use link to this repository: https://github.com/lighthouse-labs/API_challenge.\n",
    "        Once you have access to your keys and tokens (should be 4 overall), save them as environmental variables in your computer.\n",
    "        Test your personal details using python snippet in the instructions above. We will have to edit the code and use package os to access the values of environmental variables\n",
    "    Proceed to file stream_tweets.ipynb and follow the instructions in the notebook. (60 min)\n",
    "    We will be working with the Twitter Streaming API. You can find official documentation here."
   ]
  },
  {
   "cell_type": "code",
   "execution_count": null,
   "metadata": {},
   "outputs": [],
   "source": []
  }
 ],
 "metadata": {
  "kernelspec": {
   "display_name": "ml_env",
   "language": "python",
   "name": "ml_env"
  },
  "language_info": {
   "codemirror_mode": {
    "name": "ipython",
    "version": 3
   },
   "file_extension": ".py",
   "mimetype": "text/x-python",
   "name": "python",
   "nbconvert_exporter": "python",
   "pygments_lexer": "ipython3",
   "version": "3.6.12"
  }
 },
 "nbformat": 4,
 "nbformat_minor": 4
}
