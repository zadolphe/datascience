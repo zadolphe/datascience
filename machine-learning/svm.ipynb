{
 "cells": [
  {
   "cell_type": "code",
   "execution_count": 23,
   "metadata": {},
   "outputs": [],
   "source": [
    "import sklearn\n",
    "from sklearn import datasets \n",
    "from sklearn import svm\n",
    "from sklearn.neighbors import KNeighborsClassifier\n",
    "from sklearn import metrics"
   ]
  },
  {
   "cell_type": "code",
   "execution_count": 35,
   "metadata": {},
   "outputs": [
    {
     "name": "stdout",
     "output_type": "stream",
     "text": [
      "['mean radius' 'mean texture' 'mean perimeter' 'mean area'\n",
      " 'mean smoothness' 'mean compactness' 'mean concavity'\n",
      " 'mean concave points' 'mean symmetry' 'mean fractal dimension'\n",
      " 'radius error' 'texture error' 'perimeter error' 'area error'\n",
      " 'smoothness error' 'compactness error' 'concavity error'\n",
      " 'concave points error' 'symmetry error' 'fractal dimension error'\n",
      " 'worst radius' 'worst texture' 'worst perimeter' 'worst area'\n",
      " 'worst smoothness' 'worst compactness' 'worst concavity'\n",
      " 'worst concave points' 'worst symmetry' 'worst fractal dimension']\n",
      "['malignant' 'benign']\n"
     ]
    }
   ],
   "source": [
    "cancer= datasets.load_breast_cancer()\n",
    "print(cancer.feature_names)\n",
    "print(cancer.target_names)"
   ]
  },
  {
   "cell_type": "code",
   "execution_count": 89,
   "metadata": {},
   "outputs": [
    {
     "name": "stdout",
     "output_type": "stream",
     "text": [
      "[[2.051e+01 2.781e+01 1.344e+02 ... 1.563e-01 2.437e-01 8.328e-02]\n",
      " [7.729e+00 2.549e+01 4.798e+01 ... 0.000e+00 3.058e-01 9.938e-02]\n",
      " [8.888e+00 1.464e+01 5.879e+01 ... 4.786e-02 2.254e-01 1.084e-01]\n",
      " ...\n",
      " [1.234e+01 2.222e+01 7.985e+01 ... 8.194e-02 2.268e-01 9.082e-02]\n",
      " [1.106e+01 1.496e+01 7.149e+01 ... 1.075e-01 3.301e-01 9.080e-02]\n",
      " [1.026e+01 1.658e+01 6.585e+01 ... 8.333e-02 2.691e-01 9.479e-02]] [0 1 1 1 1 0 1 0 1 0 0 1 0 1 1 1 0 0 1 1 1 0 0 1 1 1 1 0 1 1 1 0 0 1 0 0 0\n",
      " 1 1 1 1 1 1 1 1 1 1 1 0 1 0 1 1 1 1 0 0 1 1 0 1 0 0 0 1 0 1 1 0 1 0 1 0 0\n",
      " 1 1 1 1 1 1 1 0 1 0 0 1 1 0 1 0 1 0 1 0 1 1 1 0 1 1 0 0 1 1 1 1 1 0 1 0 1\n",
      " 0 0 1 1 1 0 1 1 1 0 0 1 1 1 1 1 1 1 0 0 0 0 0 1 1 1 0 1 1 1 1 1 0 0 1 1 1\n",
      " 1 0 0 1 1 0 1 1 1 1 1 1 1 1 1 0 1 0 1 1 1 1 0 1 0 1 0 1 1 1 1 1 0 1 1 0 1\n",
      " 0 0 1 0 0 0 1 1 0 0 1 1 0 0 1 1 0 1 1 1 1 0 1 1 1 1 0 1 0 1 0 0 0 0 1 1 0\n",
      " 1 1 1 0 1 1 0 1 0 0 0 1 0 1 0 1 0 1 0 0 1 1 1 1 1 1 1 1 0 1 1 1 1 0 1 1 0\n",
      " 0 0 1 1 1 1 1 1 0 0 1 0 1 1 0 1 0 1 1 0 1 0 1 1 1 0 1 1 1 0 1 1 1 1 1 1 1\n",
      " 1 1 1 0 0 1 1 1 0 0 1 1 1 1 1 0 1 0 1 0 1 1 0 0 0 1 1 1 1 1 1 1 1 1 0 1 0\n",
      " 1 0 1 0 1 0 0 1 1 1 1 0 0 1 1 0 0 1 0 1 1 1 1 1 1 0 1 1 1 0 0 1 1 0 1 1 0\n",
      " 1 1 1 1 0 1 1 0 1 1 1 1 1 1 0 0 1 1 1 1 1 1 0 0 0 0 1 0 0 1 1 1 1 0 0 1 1\n",
      " 0 1 0 0 0 0 0 0 1 0 1 0 0 1 1 1 0 1 0 1 0 0 1 1 0 0 1 0 0 1 1 1 1 0 0 0 0\n",
      " 1 1 0 0 0 1 0 1 1 1 1]\n"
     ]
    }
   ],
   "source": [
    "X = cancer.data\n",
    "y = cancer.target\n",
    "\n",
    "train_x, test_x, train_y, test_y = sklearn.model_selection.train_test_split(X,y,test_size=0.2)\n",
    "print(train_x, train_y)"
   ]
  },
  {
   "cell_type": "code",
   "execution_count": 90,
   "metadata": {},
   "outputs": [
    {
     "name": "stdout",
     "output_type": "stream",
     "text": [
      "0.9385964912280702\n"
     ]
    }
   ],
   "source": [
    "classes = [\"malignant\", \"benign\"]\n",
    "clf = svm.SVC() #this stands for support vector classification, create our model\n",
    "clf.fit(train_x, train_y)\n",
    "\n",
    "y_prediction = clf.predict(test_x) #needs a 2d array so add the brackets\n",
    "#clf.score(test_x, test_y)\n",
    "#we can measure how good it is with metrics from sklearn \n",
    "accuracy = metrics.accuracy_score(test_y, y_prediction)\n",
    "print(accuracy)"
   ]
  },
  {
   "cell_type": "code",
   "execution_count": 91,
   "metadata": {},
   "outputs": [
    {
     "name": "stdout",
     "output_type": "stream",
     "text": [
      "0.9385964912280702\n"
     ]
    }
   ],
   "source": [
    "clf = svm.SVC(kernel='linear', C=2) #dont use the poly unless you basically have a lot of time or supercomputer time, c is soft-margin\n",
    "clf.fit(train_x, train_y)\n",
    "y_predict = clf.predict(test_x)\n",
    "acc = metrics.accuracy_score(test_y, y_prediction)\n",
    "print(acc)"
   ]
  },
  {
   "cell_type": "code",
   "execution_count": 92,
   "metadata": {},
   "outputs": [
    {
     "name": "stdout",
     "output_type": "stream",
     "text": [
      "0.9385964912280702\n"
     ]
    }
   ],
   "source": [
    "clf = svm.SVC(kernel='poly') #you can see poly has bad results\n",
    "clf.fit(train_x, train_y)\n",
    "y_predict = clf.predict(test_x)\n",
    "acc = metrics.accuracy_score(test_y, y_prediction)\n",
    "print(acc)"
   ]
  },
  {
   "cell_type": "code",
   "execution_count": 101,
   "metadata": {},
   "outputs": [
    {
     "name": "stdout",
     "output_type": "stream",
     "text": [
      "0.9385964912280702\n"
     ]
    }
   ],
   "source": [
    "#compare to knn \n",
    "clf = KNeighborsClassifier(n_neighbors=11)\n",
    "clf.fit(train_x, train_y)\n",
    "y_predict = clf.predict(test_x)\n",
    "acc = metrics.accuracy_score(test_y, y_prediction)\n",
    "print(acc)"
   ]
  },
  {
   "cell_type": "code",
   "execution_count": null,
   "metadata": {},
   "outputs": [],
   "source": []
  }
 ],
 "metadata": {
  "kernelspec": {
   "display_name": "ml_env",
   "language": "python",
   "name": "ml_env"
  },
  "language_info": {
   "codemirror_mode": {
    "name": "ipython",
    "version": 3
   },
   "file_extension": ".py",
   "mimetype": "text/x-python",
   "name": "python",
   "nbconvert_exporter": "python",
   "pygments_lexer": "ipython3",
   "version": "3.6.12"
  }
 },
 "nbformat": 4,
 "nbformat_minor": 4
}
