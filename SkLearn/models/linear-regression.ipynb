{
 "cells": [
  {
   "cell_type": "code",
   "execution_count": 18,
   "metadata": {},
   "outputs": [],
   "source": [
    "import pandas as pd \n",
    "import numpy as np \n",
    "import sklearn \n",
    "import matplotlib.pyplot as plt\n",
    "from sklearn.linear_model import LinearRegression\n",
    "from sklearn.model_selection import train_test_split"
   ]
  },
  {
   "cell_type": "code",
   "execution_count": 15,
   "metadata": {},
   "outputs": [
    {
     "data": {
      "text/html": [
       "<div>\n",
       "<style scoped>\n",
       "    .dataframe tbody tr th:only-of-type {\n",
       "        vertical-align: middle;\n",
       "    }\n",
       "\n",
       "    .dataframe tbody tr th {\n",
       "        vertical-align: top;\n",
       "    }\n",
       "\n",
       "    .dataframe thead th {\n",
       "        text-align: right;\n",
       "    }\n",
       "</style>\n",
       "<table border=\"1\" class=\"dataframe\">\n",
       "  <thead>\n",
       "    <tr style=\"text-align: right;\">\n",
       "      <th></th>\n",
       "      <th>school</th>\n",
       "      <th>sex</th>\n",
       "      <th>age</th>\n",
       "      <th>address</th>\n",
       "      <th>famsize</th>\n",
       "      <th>Pstatus</th>\n",
       "      <th>Medu</th>\n",
       "      <th>Fedu</th>\n",
       "      <th>Mjob</th>\n",
       "      <th>Fjob</th>\n",
       "      <th>...</th>\n",
       "      <th>famrel</th>\n",
       "      <th>freetime</th>\n",
       "      <th>goout</th>\n",
       "      <th>Dalc</th>\n",
       "      <th>Walc</th>\n",
       "      <th>health</th>\n",
       "      <th>absences</th>\n",
       "      <th>G1</th>\n",
       "      <th>G2</th>\n",
       "      <th>G3</th>\n",
       "    </tr>\n",
       "  </thead>\n",
       "  <tbody>\n",
       "    <tr>\n",
       "      <th>0</th>\n",
       "      <td>GP</td>\n",
       "      <td>F</td>\n",
       "      <td>18</td>\n",
       "      <td>U</td>\n",
       "      <td>GT3</td>\n",
       "      <td>A</td>\n",
       "      <td>4</td>\n",
       "      <td>4</td>\n",
       "      <td>at_home</td>\n",
       "      <td>teacher</td>\n",
       "      <td>...</td>\n",
       "      <td>4</td>\n",
       "      <td>3</td>\n",
       "      <td>4</td>\n",
       "      <td>1</td>\n",
       "      <td>1</td>\n",
       "      <td>3</td>\n",
       "      <td>6</td>\n",
       "      <td>5</td>\n",
       "      <td>6</td>\n",
       "      <td>6</td>\n",
       "    </tr>\n",
       "    <tr>\n",
       "      <th>1</th>\n",
       "      <td>GP</td>\n",
       "      <td>F</td>\n",
       "      <td>17</td>\n",
       "      <td>U</td>\n",
       "      <td>GT3</td>\n",
       "      <td>T</td>\n",
       "      <td>1</td>\n",
       "      <td>1</td>\n",
       "      <td>at_home</td>\n",
       "      <td>other</td>\n",
       "      <td>...</td>\n",
       "      <td>5</td>\n",
       "      <td>3</td>\n",
       "      <td>3</td>\n",
       "      <td>1</td>\n",
       "      <td>1</td>\n",
       "      <td>3</td>\n",
       "      <td>4</td>\n",
       "      <td>5</td>\n",
       "      <td>5</td>\n",
       "      <td>6</td>\n",
       "    </tr>\n",
       "    <tr>\n",
       "      <th>2</th>\n",
       "      <td>GP</td>\n",
       "      <td>F</td>\n",
       "      <td>15</td>\n",
       "      <td>U</td>\n",
       "      <td>LE3</td>\n",
       "      <td>T</td>\n",
       "      <td>1</td>\n",
       "      <td>1</td>\n",
       "      <td>at_home</td>\n",
       "      <td>other</td>\n",
       "      <td>...</td>\n",
       "      <td>4</td>\n",
       "      <td>3</td>\n",
       "      <td>2</td>\n",
       "      <td>2</td>\n",
       "      <td>3</td>\n",
       "      <td>3</td>\n",
       "      <td>10</td>\n",
       "      <td>7</td>\n",
       "      <td>8</td>\n",
       "      <td>10</td>\n",
       "    </tr>\n",
       "    <tr>\n",
       "      <th>3</th>\n",
       "      <td>GP</td>\n",
       "      <td>F</td>\n",
       "      <td>15</td>\n",
       "      <td>U</td>\n",
       "      <td>GT3</td>\n",
       "      <td>T</td>\n",
       "      <td>4</td>\n",
       "      <td>2</td>\n",
       "      <td>health</td>\n",
       "      <td>services</td>\n",
       "      <td>...</td>\n",
       "      <td>3</td>\n",
       "      <td>2</td>\n",
       "      <td>2</td>\n",
       "      <td>1</td>\n",
       "      <td>1</td>\n",
       "      <td>5</td>\n",
       "      <td>2</td>\n",
       "      <td>15</td>\n",
       "      <td>14</td>\n",
       "      <td>15</td>\n",
       "    </tr>\n",
       "    <tr>\n",
       "      <th>4</th>\n",
       "      <td>GP</td>\n",
       "      <td>F</td>\n",
       "      <td>16</td>\n",
       "      <td>U</td>\n",
       "      <td>GT3</td>\n",
       "      <td>T</td>\n",
       "      <td>3</td>\n",
       "      <td>3</td>\n",
       "      <td>other</td>\n",
       "      <td>other</td>\n",
       "      <td>...</td>\n",
       "      <td>4</td>\n",
       "      <td>3</td>\n",
       "      <td>2</td>\n",
       "      <td>1</td>\n",
       "      <td>2</td>\n",
       "      <td>5</td>\n",
       "      <td>4</td>\n",
       "      <td>6</td>\n",
       "      <td>10</td>\n",
       "      <td>10</td>\n",
       "    </tr>\n",
       "  </tbody>\n",
       "</table>\n",
       "<p>5 rows × 33 columns</p>\n",
       "</div>"
      ],
      "text/plain": [
       "  school sex  age address famsize Pstatus  Medu  Fedu     Mjob      Fjob  ...  \\\n",
       "0     GP   F   18       U     GT3       A     4     4  at_home   teacher  ...   \n",
       "1     GP   F   17       U     GT3       T     1     1  at_home     other  ...   \n",
       "2     GP   F   15       U     LE3       T     1     1  at_home     other  ...   \n",
       "3     GP   F   15       U     GT3       T     4     2   health  services  ...   \n",
       "4     GP   F   16       U     GT3       T     3     3    other     other  ...   \n",
       "\n",
       "  famrel freetime  goout  Dalc  Walc health absences  G1  G2  G3  \n",
       "0      4        3      4     1     1      3        6   5   6   6  \n",
       "1      5        3      3     1     1      3        4   5   5   6  \n",
       "2      4        3      2     2     3      3       10   7   8  10  \n",
       "3      3        2      2     1     1      5        2  15  14  15  \n",
       "4      4        3      2     1     2      5        4   6  10  10  \n",
       "\n",
       "[5 rows x 33 columns]"
      ]
     },
     "execution_count": 15,
     "metadata": {},
     "output_type": "execute_result"
    }
   ],
   "source": [
    "data = pd.read_csv('student-mat.csv', sep=';')\n",
    "data.head()"
   ]
  },
  {
   "cell_type": "code",
   "execution_count": 56,
   "metadata": {},
   "outputs": [
    {
     "name": "stdout",
     "output_type": "stream",
     "text": [
      "0.8784144895388221\n"
     ]
    }
   ],
   "source": [
    "predict = \"G3\" #this is the label which is what you are trying the predict\n",
    "training_data = data[[\"G1\", \"G2\", \"G3\",\"studytime\", \"failures\", \"absences\"]] #attributes or features\n",
    "X = np.array(training_data.drop(columns=[predict], axis=1)) #this is our training data without the label we are going to predict\n",
    "y = np.array(training_data[predict]) #this is only the label we are trying to predict using the regression \n",
    "#linear_model = LinearRegression()\n",
    "#split the data \n",
    "train_x, test_x, train_y, test_y = train_test_split(X,y, test_size=0.1)\n",
    "best = 0\n",
    "for x in range(1000):\n",
    "    linear_model.fit(train_x, train_y) #fit the model to the data using a linear regression \n",
    "    accuracy = linear_model.score(test_x, test_y) #this is going to test the accuracy of our model \n",
    "    if accuracy > best:\n",
    "        best = accuracy\n",
    "    \n",
    "print(accuracy) #not bad! changes slightly everytime"
   ]
  },
  {
   "cell_type": "code",
   "execution_count": 25,
   "metadata": {},
   "outputs": [
    {
     "name": "stdout",
     "output_type": "stream",
     "text": [
      "coefficients: \n",
      " [ 0.15308518  0.9758306  -0.24889348 -0.38401008  0.03684374]\n",
      "Intercept: \n",
      " -1.32981771644371\n"
     ]
    }
   ],
   "source": [
    "#now that we have a model, let's see the coefficients and intercept \n",
    "print(\"coefficients: \\n\", linear_model.coef_)\n",
    "print(\"Intercept: \\n\", linear_model.intercept_)"
   ]
  },
  {
   "cell_type": "markdown",
   "metadata": {},
   "source": [
    "Notice that there are 5 coefficients because there are 5 variables [\"G1\", \"G2\",\"studytime\", \"failures\", \"absences\"]\n",
    "the higher the coefficient number the more weight the variable carries"
   ]
  },
  {
   "cell_type": "code",
   "execution_count": 77,
   "metadata": {},
   "outputs": [
    {
     "name": "stdout",
     "output_type": "stream",
     "text": [
      "8 [10  9  2  0  4] 9 error:  0.3035143640808453\n",
      "11 [12 12  4  0  1] 12 error:  0.6010140513463078\n",
      "14 [15 14  2  0  2] 14 error:  0.29782792629086785\n",
      "10 [11 11  2  0  2] 10 error:  0.7294970971576156\n",
      "10 [11 11  3  0  0] 10 error:  0.4473018713321917\n",
      "9 [ 7 10  2  0  0] 11 error:  1.9732497803276718\n",
      "14 [14 14  1  0  2] 13 error:  1.345765733659574\n",
      "11 [ 9 12  3  0  3] 11 error:  0.1788986457076387\n",
      "19 [18 19  1  0  6] 19 error:  0.9801702410394668\n",
      "5 [8 7 2 3 8] 8 error:  2.3907566619560594\n",
      "10 [10 11  2  0  2] 11 error:  0.4379304124328769\n",
      "8 [7 9 1 1 2] 8 error:  0.024860769936491778\n",
      "10 [11 11  2  0  4] 11 error:  0.203672993976161\n",
      "10 [11 11  3  0  3] 11 error:  0.4524532653684723\n",
      "7 [9 8 2 1 0] 0 error:  7.111313633034957\n",
      "18 [16 18  2  0  0] 18 error:  0.2632532480435188\n",
      "13 [14 13  2  0  2] 13 error:  0.16419348644328124\n",
      "5 [7 7 2 1 0] 0 error:  5.810251683596877\n",
      "4 [6 5 2 0 6] 6 error:  1.7712222146049719\n",
      "4 [7 6 1 2 0] 0 error:  4.741532324994818\n",
      "16 [15 16  1  0  4] 15 error:  1.5124370126304818\n",
      "8 [10  9  2  0  0] 0 error:  8.562825818186706\n",
      "12 [14 12  1  0  3] 12 error:  0.44676682757849484\n",
      "7 [8 8 1 0 0] 11 error:  3.5228708142921743\n",
      "3 [5 5 2 0 4] 6 error:  2.0054796330616877\n",
      "6 [ 7  7  1  0 14] 5 error:  1.8113041079238048\n",
      "10 [12 11  2  0  0] 12 error:  1.1699053021181172\n",
      "12 [11 12  2  0 12] 11 error:  1.0298535717458286\n",
      "12 [12 12  2  0 12] 11 error:  1.197281081336321\n",
      "12 [12 13  2  0  2] 13 error:  0.17066153273770368\n",
      "6 [8 7 2 0 0] 8 error:  1.704443061508469\n",
      "8 [ 9  9  2  2 15] 9 error:  0.7391328655154297\n",
      "6 [9 8 1 3 6] 10 error:  3.1085868140154957\n",
      "11 [10 12  3  0  4] 12 error:  0.620258890268758\n",
      "8 [8 9 2 0 4] 10 error:  1.6383693832618285\n",
      "11 [11 12  3  1  4] 11 error:  0.22929087401757187\n",
      "6 [7 8 2 3 2] 9 error:  2.792466967888126\n",
      "17 [16 17  2  0  0] 17 error:  0.2970463177864211\n",
      "15 [15 15  2  0  4] 15 error:  0.3308647654141872\n",
      "19 [18 18  1  0  6] 18 error:  1.0139633107823727\n",
      "\n",
      " max:  8.562825818186706 min:  0.024860769936491778\n"
     ]
    }
   ],
   "source": [
    "#this is how we predict scores with this model \n",
    "predictions = linear_model.predict(test_x)\n",
    "errors = []\n",
    "for x in range(len(predictions)): \n",
    "    error = abs(predictions[x] - test_y[x])\n",
    "    print(int(predictions[x]), test_x[x], test_y[x], \"error: \", error) #test_x is an array and so is test_y so we are printing all of the values in them \n",
    "    errors.append(error)\n",
    "    \n",
    "print(\"\\n max: \", max(errors), \"min: \", min(errors))     "
   ]
  },
  {
   "cell_type": "markdown",
   "metadata": {},
   "source": [
    "<h1>Save Model "
   ]
  },
  {
   "cell_type": "code",
   "execution_count": 43,
   "metadata": {},
   "outputs": [],
   "source": [
    "import pickle\n",
    "with open('studentmodel.pickle', \"wb\") as f:\n",
    "    pickle.dump(linear_model, f)\n",
    "    \n",
    "with open(\"studentmodel.pickle\", \"rb\") as f:\n",
    "    #pickle_in = pickle.load(\"student-model.pickle\")\n",
    "    loaded_model = pickle.load(f)\n",
    "    #loaded_model = pickle.load(pickle_in)"
   ]
  },
  {
   "cell_type": "code",
   "execution_count": 45,
   "metadata": {},
   "outputs": [
    {
     "name": "stdout",
     "output_type": "stream",
     "text": [
      "0.9298052869210224\n"
     ]
    }
   ],
   "source": [
    "loaded_accuracy = loaded_model.score(test_x, test_y)\n",
    "print(loaded_accuracy) #notice that it is the same as the other score which means it saved that instance of the model, so it's good!"
   ]
  },
  {
   "cell_type": "markdown",
   "metadata": {},
   "source": [
    "Now that we have saved this, let's try and reach a score of 95% and keep working and saving until we get that score. note the score or prediction accuracy is different every time because when use the train_split and takes a random set within that data to separate into the test and split data sets. So we get a different set of training data every time we run it. "
   ]
  },
  {
   "cell_type": "code",
   "execution_count": 82,
   "metadata": {},
   "outputs": [
    {
     "name": "stdout",
     "output_type": "stream",
     "text": [
      "0.9611422080247465\n",
      "LinearRegression()\n"
     ]
    }
   ],
   "source": [
    "best = 0\n",
    "for x in range(1000):\n",
    "    train_x, test_x, train_y, test_y = train_test_split(X,y, test_size=0.1)\n",
    "    linear_model = LinearRegression()\n",
    "    linear_model.fit(train_x, train_y) #fit the model to the data using a linear regression, aka find a straight-line fit to points\n",
    "    accuracy = linear_model.score(test_x, test_y) \n",
    "    if accuracy > best:\n",
    "        best = accuracy\n",
    "print(best)\n",
    "\n",
    "#save the best model\n",
    "with open('studentmodel.pickle', \"wb\") as f:\n",
    "    pickle.dump(linear_model, f)\n",
    "    \n",
    "with open(\"studentmodel.pickle\", \"rb\") as f:\n",
    "    #pickle_in = pickle.load(\"student-model.pickle\")\n",
    "    best_model = pickle.load(f)\n",
    "    #loaded_model = pickle.load(pickle_in)\"\"\"\n",
    "print(best_model)"
   ]
  },
  {
   "cell_type": "code",
   "execution_count": 84,
   "metadata": {},
   "outputs": [
    {
     "name": "stdout",
     "output_type": "stream",
     "text": [
      "0.9079999691153391\n",
      "[13.86698504  8.46520808 13.50299408  5.09212121 10.72682289 12.40689889\n",
      "  4.39358596  9.11272463  9.55356371  8.21002443  6.53927248 13.73209921\n",
      "  4.31254047  7.42686491 15.69154189 12.84230371 19.06294205 -1.59467758\n",
      "  7.99271739 15.60275684 18.11301443 15.59893725  8.69431322 10.10379851\n",
      "  4.51333385  8.61573991 14.00235061 12.00004663  7.69687551 12.64756318\n",
      " 12.77061245 14.92097607 11.8877273  15.1454041  14.84928481 13.46288423\n",
      "  8.06440866  7.26783452 13.22882271  9.50220571]\n"
     ]
    }
   ],
   "source": [
    "#we now have over 95% \n",
    "train_x, test_x, train_y, test_y = train_test_split(X,y, test_size=0.1)\n",
    "print(best_model.score(test_x, test_y))\n",
    "print(best_model.predict(test_x))"
   ]
  },
  {
   "cell_type": "markdown",
   "metadata": {},
   "source": [
    "<h2>Let's visualize our data for a client "
   ]
  },
  {
   "cell_type": "code",
   "execution_count": 93,
   "metadata": {},
   "outputs": [
    {
     "data": {
      "image/png": "[encoded data removed]",
      "text/plain": [
       "<Figure size 432x288 with 1 Axes>"
      ]
     },
     "metadata": {},
     "output_type": "display_data"
    },
    {
     "data": {
      "image/png": "[encoded data removed]",
      "text/plain": [
       "<Figure size 432x288 with 1 Axes>"
      ]
     },
     "metadata": {},
     "output_type": "display_data"
    },
    {
     "data": {
      "image/png": "[encoded data removed]",
      "text/plain": [
       "<Figure size 432x288 with 1 Axes>"
      ]
     },
     "metadata": {},
     "output_type": "display_data"
    },
    {
     "data": {
      "image/png": "[encoded data removed]",
      "text/plain": [
       "<Figure size 432x288 with 1 Axes>"
      ]
     },
     "metadata": {},
     "output_type": "display_data"
    },
    {
     "data": {
      "image/png": "[encoded data removed]",
      "text/plain": [
       "<Figure size 432x288 with 1 Axes>"
      ]
     },
     "metadata": {},
     "output_type": "display_data"
    },
    {
     "data": {
      "image/png": "[encoded data removed]",
      "text/plain": [
       "<Figure size 432x288 with 1 Axes>"
      ]
     },
     "metadata": {},
     "output_type": "display_data"
    }
   ],
   "source": [
    "#lets make our grid look proffessional \n",
    "plt.style.use(\"ggplot\")\n",
    "features_list = [\"G1\", \"G2\", \"G3\",\"studytime\", \"failures\", \"absences\"]\n",
    "prediction = \"studytime\" #change this with the different features \"G1, G2, etc. studytime\"\n",
    "for feature in features_list:\n",
    "    plt.scatter(data[feature], data[\"G3\"])\n",
    "    plt.xlabel(feature) #changed from x_label\n",
    "    plt.ylabel(\"Final Grade\") #changed from y_label\n",
    "    plt.show()"
   ]
  },
  {
   "cell_type": "code",
   "execution_count": null,
   "metadata": {},
   "outputs": [],
   "source": []
  }
 ],
 "metadata": {
  "kernelspec": {
   "display_name": "ml_env",
   "language": "python",
   "name": "ml_env"
  },
  "language_info": {
   "codemirror_mode": {
    "name": "ipython",
    "version": 3
   },
   "file_extension": ".py",
   "mimetype": "text/x-python",
   "name": "python",
   "nbconvert_exporter": "python",
   "pygments_lexer": "ipython3",
   "version": "3.6.12"
  }
 },
 "nbformat": 4,
 "nbformat_minor": 4
}
