{
 "cells": [
  {
   "cell_type": "code",
   "execution_count": 144,
   "metadata": {},
   "outputs": [],
   "source": [
    "import pandas as pd\n",
    "import numpy as np\n",
    "# package with hypothesis tests\n",
    "import scipy.stats as st\n",
    "import matplotlib.pyplot as plt"
   ]
  },
  {
   "cell_type": "code",
   "execution_count": 145,
   "metadata": {},
   "outputs": [
    {
     "name": "stderr",
     "output_type": "stream",
     "text": [
      "<ipython-input-145-d81c76f663d7>:13: UserWarning: Matplotlib is currently using module://ipykernel.pylab.backend_inline, which is a non-GUI backend, so cannot show the figure.\n",
      "  fig.show();\n"
     ]
    },
    {
     "data": {
      "image/png": "[encoded data removed]",
      "text/plain": [
       "<Figure size 1008x360 with 2 Axes>"
      ]
     },
     "metadata": {
      "needs_background": "light"
     },
     "output_type": "display_data"
    }
   ],
   "source": [
    "#\n",
    "uniform = np.random.rand(10000)\n",
    "normal = np.random.randn(10000)\n",
    "\n",
    "fig = plt.figure(figsize=(14,5))\n",
    "ax1 = fig.add_subplot(1,2,1)\n",
    "ax2 = fig.add_subplot(1,2,2)\n",
    "ax1.hist(uniform, 20)\n",
    "ax1.set_title('Uniform data')\n",
    "ax2.hist(normal, 20)\n",
    "ax2.set_title('Normal data')\n",
    "fig.tight_layout()\n",
    "fig.show();"
   ]
  },
  {
   "cell_type": "code",
   "execution_count": 146,
   "metadata": {},
   "outputs": [
    {
     "name": "stdout",
     "output_type": "stream",
     "text": [
      "ShapiroResult(statistic=0.9997967481613159, pvalue=0.4874193072319031)\n",
      "ShapiroResult(statistic=0.9536301493644714, pvalue=0.0)\n"
     ]
    }
   ],
   "source": [
    "normal_test = st.shapiro(normal)\n",
    "uniform_test = st.shapiro(uniform)\n",
    "print(normal_test)\n",
    "print(uniform_test)"
   ]
  },
  {
   "cell_type": "markdown",
   "metadata": {},
   "source": [
    "### CLT - simulation"
   ]
  },
  {
   "cell_type": "markdown",
   "metadata": {},
   "source": [
    "### How many samples do we have to take, so the distribution of means of these samples will pass the shapiro-wilk test for normality if population is from Uniform or Normal distribution?\n",
    "+ Suppose the population is 10000 observation.\n",
    "+ Suppose sample size is always 50\n",
    "\n",
    "We will be suprised to see how fast the test passes for both distributions."
   ]
  },
  {
   "cell_type": "code",
   "execution_count": 217,
   "metadata": {},
   "outputs": [
    {
     "name": "stdout",
     "output_type": "stream",
     "text": [
      "0.032218433916568756\n"
     ]
    }
   ],
   "source": [
    "from numpy import mean\n",
    "from numpy.random import randint\n",
    "\n",
    "def get_normal_means():\n",
    "    normal_means = []\n",
    "    normal_sum = 0\n",
    "    for i in range(50):\n",
    "        val = normal[randint(0,len(normal))]\n",
    "        normal_sum += val\n",
    "    normal_mean = normal_sum / 50\n",
    "    normal_means.append(normal_mean)\n",
    "    return normal_means\n",
    "\n",
    "the_means = []\n",
    "for i in range(15):\n",
    "    sample_mean = get_normal_means()\n",
    "    the_means.append(sample_mean)\n",
    "normal_stat, normal_p = st.shapiro(the_means) #shaprio needs at least 3 elements in the array\n",
    "print(normal_p)\n",
    "#once in a while with enough samples you get a low enough p value"
   ]
  },
  {
   "cell_type": "code",
   "execution_count": 232,
   "metadata": {},
   "outputs": [
    {
     "data": {
      "text/plain": [
       "ShapiroResult(statistic=0.8118868470191956, pvalue=0.020212074741721153)"
      ]
     },
     "execution_count": 232,
     "metadata": {},
     "output_type": "execute_result"
    }
   ],
   "source": [
    "uniform_sum = 0\n",
    "uniform_means = []\n",
    "\n",
    "def get_uniform_means():\n",
    "    uniform_means = []\n",
    "    uniform_sum = 0\n",
    "    for i in range(50):\n",
    "        val = uniform[randint(0,len(uniform))]\n",
    "        uniform_sum += val\n",
    "    uniform_mean = uniform_sum / 50\n",
    "    uniform_means.append(uniform_mean)\n",
    "    return uniform_means\n",
    "uni_means = []\n",
    "for i in range(10):\n",
    "    uni_sample = get_uniform_means()\n",
    "    uni_means.append(uni_sample)\n",
    "uni_shapiro = st.shapiro(uni_means)\n",
    "uni_shapiro\n",
    "#looks like we got one around 10 samples"
   ]
  }
 ],
 "metadata": {
  "kernelspec": {
   "display_name": "Python 3",
   "language": "python",
   "name": "python3"
  },
  "language_info": {
   "codemirror_mode": {
    "name": "ipython",
    "version": 3
   },
   "file_extension": ".py",
   "mimetype": "text/x-python",
   "name": "python",
   "nbconvert_exporter": "python",
   "pygments_lexer": "ipython3",
   "version": "3.8.5"
  }
 },
 "nbformat": 4,
 "nbformat_minor": 4
}
