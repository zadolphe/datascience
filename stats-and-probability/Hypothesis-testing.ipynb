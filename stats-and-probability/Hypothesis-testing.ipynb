{
 "cells": [
  {
   "cell_type": "code",
   "execution_count": 56,
   "metadata": {},
   "outputs": [],
   "source": [
    "import numpy as np\n",
    "np.random.seed(42)"
   ]
  },
  {
   "cell_type": "code",
   "execution_count": 57,
   "metadata": {},
   "outputs": [],
   "source": [
    "history = 365\n",
    "\n",
    "#for a mock store A\n",
    "mean_A = 20\n",
    "std_A = 5\n",
    "shop_A_sales = np.random.normal(mean_A, std_A, history)\n",
    "\n",
    "#for a mock store B\n",
    "mean_B = 19.5\n",
    "std_B =5\n",
    "shop_B_sales = np.random.normal(mean_B, std_B, history)\n"
   ]
  },
  {
   "cell_type": "code",
   "execution_count": 58,
   "metadata": {},
   "outputs": [
    {
     "name": "stdout",
     "output_type": "stream",
     "text": [
      "20.04973201106029\n",
      "19.309929401404304\n",
      "difference is:  0.7398026096559853\n"
     ]
    }
   ],
   "source": [
    "#null hypothesis (H0) mean sales of shop A = mean of sales of shop B, AKA difference in sales is zero\n",
    "#alpha(significance level = 0.05)\n",
    "alpha = 0.05\n",
    "\n",
    "print(shop_A_sales.mean())\n",
    "print(shop_B_sales.mean())\n",
    "\n",
    "observed_difference = shop_A_sales.mean() - shop_B_sales.mean()\n",
    "print(\"difference is: \", observed_difference)"
   ]
  },
  {
   "cell_type": "code",
   "execution_count": 59,
   "metadata": {},
   "outputs": [],
   "source": [
    "both_sales = np.concatenate((shop_A_sales, shop_B_sales))"
   ]
  },
  {
   "cell_type": "code",
   "execution_count": 60,
   "metadata": {},
   "outputs": [
    {
     "name": "stdout",
     "output_type": "stream",
     "text": [
      "0.21098789154327235\n"
     ]
    }
   ],
   "source": [
    "#run permutation aka random re-ordering of the entries in the array\n",
    "#permutation \n",
    "sales_perm = np.random.permutation(both_sales)\n",
    "\n",
    "#permutation replicates \n",
    "perm_shop_A_sales = sales_perm[:len(shop_A_sales)]\n",
    "perm_shop_B_sales = sales_perm[len(shop_B_sales):]\n",
    "\n",
    "print(perm_shop_A_sales.mean() - perm_shop_B_sales.mean())"
   ]
  },
  {
   "cell_type": "code",
   "execution_count": 61,
   "metadata": {},
   "outputs": [],
   "source": [
    "perm_repl_means = []\n",
    "perm_num = 1000\n",
    "\n",
    "for _ in range(perm_num):\n",
    "    #permutation\n",
    "    sales_perm = np.random.permutation(both_sales)\n",
    "    \n",
    "    #replicates of new permutations\n",
    "    perm_shop_A_sales = sales_perm[:len(shop_A_sales)]\n",
    "    perm_shop_B_sales = sales_perm[len(shop_B_sales):]\n",
    "    \n",
    "    #replicate means\n",
    "    perm_repl_mean = perm_shop_A_sales.mean() - perm_shop_B_sales.mean()\n",
    "    \n",
    "    #append to the list \n",
    "    perm_repl_means.append(perm_repl_mean)"
   ]
  },
  {
   "cell_type": "code",
   "execution_count": 62,
   "metadata": {},
   "outputs": [
    {
     "name": "stdout",
     "output_type": "stream",
     "text": [
      "p-value =  0.043\n"
     ]
    }
   ],
   "source": [
    "#compute the p-value - the probability that the observed statistic as extreme or more extreme than the one you've observed give the null hypthesis is true\n",
    "p = np.sum(np.abs(perm_repl_means) >= observed_difference) / len(perm_repl_means)\n",
    "print('p-value = ', p)"
   ]
  },
  {
   "cell_type": "code",
   "execution_count": 63,
   "metadata": {},
   "outputs": [
    {
     "name": "stdout",
     "output_type": "stream",
     "text": [
      "H0 is rejected.\n"
     ]
    }
   ],
   "source": [
    "#final decision \n",
    "if p < alpha:\n",
    "    print('H0 is rejected.')\n",
    "else: \n",
    "    print('H0 is not rejected')"
   ]
  }
 ],
 "metadata": {
  "kernelspec": {
   "display_name": "Python 3",
   "language": "python",
   "name": "python3"
  },
  "language_info": {
   "codemirror_mode": {
    "name": "ipython",
    "version": 3
   },
   "file_extension": ".py",
   "mimetype": "text/x-python",
   "name": "python",
   "nbconvert_exporter": "python",
   "pygments_lexer": "ipython3",
   "version": "3.8.3"
  }
 },
 "nbformat": 4,
 "nbformat_minor": 4
}
